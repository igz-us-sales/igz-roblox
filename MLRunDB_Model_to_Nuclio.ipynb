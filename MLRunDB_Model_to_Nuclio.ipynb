{
 "cells": [
  {
   "cell_type": "markdown",
   "metadata": {},
   "source": [
    "### Get Model Path from MLRun DB"
   ]
  },
  {
   "cell_type": "code",
   "execution_count": 1,
   "metadata": {},
   "outputs": [
    {
     "name": "stdout",
     "output_type": "stream",
     "text": [
      "Model DB Key : train-iris-train_iris_model\n",
      "MLRun DB Path: store://artifacts/getting-started-tutorial-anyingli/train-iris-train_iris_model:145f7e48ff394a73977393873b3589ed\n",
      "Model File: /v3io/projects/getting-started-tutorial-anyingli/artifacts/145f7e48ff394a73977393873b3589ed/models/model.pkl\n"
     ]
    }
   ],
   "source": [
    "from mlrun import get_run_db\n",
    "from mlrun.artifacts import get_model\n",
    "\n",
    "# MLRun DB connection\n",
    "db = get_run_db()\n",
    "\n",
    "# Artifact search params\n",
    "artifact_name = \"model\"\n",
    "project = \"getting-started-tutorial-anyingli\"\n",
    "tag = \"latest\"\n",
    "\n",
    "# Query DB for latest model\n",
    "latest_model = db.list_artifacts(name=artifact_name, project=project, tag=tag)[0]\n",
    "print(f\"Model DB Key : {latest_model['db_key']}\")\n",
    "\n",
    "# Build DB path for use in Nuclio function\n",
    "model_path = f'store://artifacts/{project}/{latest_model.get(\"db_key\")}:{latest_model.get(\"tree\")}'\n",
    "print(f\"MLRun DB Path: {model_path}\")\n",
    "\n",
    "# Get model file itself for manually loading\n",
    "model_file, model_artifact, extra_data = get_model(latest_model[\"target_path\"], suffix='.pkl')\n",
    "print(f\"Model File: {model_file}\")"
   ]
  },
  {
   "cell_type": "markdown",
   "metadata": {},
   "source": [
    "### Run info from Model Artifact"
   ]
  },
  {
   "cell_type": "code",
   "execution_count": 2,
   "metadata": {},
   "outputs": [
    {
     "data": {
      "text/plain": [
       "{'accuracy': 0.6333333333333333,\n",
       " 'test-error': 0.36666666666666664,\n",
       " 'auc-micro': 0.6433333333333333,\n",
       " 'auc-weighted': 0.8426900584795322,\n",
       " 'f1-score': 0.5402298850574713,\n",
       " 'precision_score': 0.48333333333333334,\n",
       " 'recall_score': 0.6666666666666666}"
      ]
     },
     "execution_count": 2,
     "metadata": {},
     "output_type": "execute_result"
    }
   ],
   "source": [
    "model_artifact.metrics # or latest_model[\"metrics\"]"
   ]
  },
  {
   "cell_type": "code",
   "execution_count": 3,
   "metadata": {},
   "outputs": [
    {
     "data": {
      "text/plain": [
       "{'class': 'logistic_regression',\n",
       " 'othertag': 'test',\n",
       " 'C': '0.0001',\n",
       " 'penalty': 'l2',\n",
       " 'maxiter': '1000'}"
      ]
     },
     "execution_count": 3,
     "metadata": {},
     "output_type": "execute_result"
    }
   ],
   "source": [
    "model_artifact.labels # or latest_model[\"labels\"]"
   ]
  },
  {
   "cell_type": "code",
   "execution_count": 4,
   "metadata": {},
   "outputs": [
    {
     "data": {
      "text/plain": [
       "{'name': 'train-iris-train_iris',\n",
       " 'kind': 'run',\n",
       " 'uri': 'getting-started-tutorial-anyingli/145f7e48ff394a73977393873b3589ed',\n",
       " 'owner': 'anyingli'}"
      ]
     },
     "execution_count": 4,
     "metadata": {},
     "output_type": "execute_result"
    }
   ],
   "source": [
    "model_artifact.producer # or latest_model[\"producer\"]"
   ]
  },
  {
   "cell_type": "markdown",
   "metadata": {},
   "source": [
    "### Use Model in Nuclio Function\n",
    "From `demos/getting-started-tutorial/03-model-serving.ipynb`"
   ]
  },
  {
   "cell_type": "code",
   "execution_count": 5,
   "metadata": {},
   "outputs": [],
   "source": [
    "from os import path\n",
    "import mlrun"
   ]
  },
  {
   "cell_type": "code",
   "execution_count": 6,
   "metadata": {},
   "outputs": [],
   "source": [
    "project_name, artifact_path = mlrun.set_environment(project=project)"
   ]
  },
  {
   "cell_type": "code",
   "execution_count": 7,
   "metadata": {},
   "outputs": [],
   "source": [
    "# nuclio: start-code"
   ]
  },
  {
   "cell_type": "code",
   "execution_count": 8,
   "metadata": {},
   "outputs": [],
   "source": [
    "from cloudpickle import load\n",
    "import numpy as np\n",
    "from typing import List\n",
    "import mlrun\n",
    "\n",
    "class ClassifierModel(mlrun.serving.V2ModelServer):\n",
    "    def load(self):\n",
    "        \"\"\"load and initialize the model and/or other elements\"\"\"\n",
    "        model_file, extra_data = self.get_model('.pkl')\n",
    "        self.model = load(open(model_file, 'rb'))\n",
    "\n",
    "    def predict(self, body: dict) -> List:\n",
    "        \"\"\"Generate model predictions from sample.\"\"\"\n",
    "        feats = np.asarray(body['inputs'])\n",
    "        result: np.ndarray = self.model.predict(feats)\n",
    "        return result.tolist()"
   ]
  },
  {
   "cell_type": "code",
   "execution_count": 9,
   "metadata": {},
   "outputs": [],
   "source": [
    "# nuclio: end-code"
   ]
  },
  {
   "cell_type": "code",
   "execution_count": 10,
   "metadata": {},
   "outputs": [
    {
     "name": "stdout",
     "output_type": "stream",
     "text": [
      "store://artifacts/getting-started-tutorial-anyingli/train-iris-train_iris_model:145f7e48ff394a73977393873b3589ed\n"
     ]
    }
   ],
   "source": [
    "from mlrun import code_to_function\n",
    "from mlrun.platforms import auto_mount\n",
    "\n",
    "serving_fn = code_to_function('serving', kind='serving',image='mlrun/mlrun')\n",
    "serving_fn.spec.default_class = 'ClassifierModel'\n",
    "\n",
    "print(model_path)\n",
    "serving_fn.add_model('my_model',model_path=model_path)\n",
    "\n",
    "serving_fn = serving_fn.apply(auto_mount())"
   ]
  },
  {
   "cell_type": "code",
   "execution_count": 11,
   "metadata": {},
   "outputs": [
    {
     "name": "stdout",
     "output_type": "stream",
     "text": [
      "> 2021-03-02 00:43:51,635 [info] Starting remote function deploy\n",
      "2021-03-02 00:43:51  (info) Deploying function\n",
      "2021-03-02 00:43:51  (info) Building\n",
      "2021-03-02 00:43:51  (info) Staging files and preparing base images\n",
      "2021-03-02 00:43:51  (info) Building processor image\n",
      "2021-03-02 00:43:52  (info) Build complete\n",
      "2021-03-02 00:43:58  (info) Function deploy complete\n",
      "> 2021-03-02 00:43:59,542 [info] function deployed, address=default-tenant.app.roblox-demo.iguazio-c0.com:30440\n"
     ]
    },
    {
     "data": {
      "text/plain": [
       "'http://default-tenant.app.roblox-demo.iguazio-c0.com:30440'"
      ]
     },
     "execution_count": 11,
     "metadata": {},
     "output_type": "execute_result"
    }
   ],
   "source": [
    "serving_fn.deploy()"
   ]
  },
  {
   "cell_type": "code",
   "execution_count": 12,
   "metadata": {},
   "outputs": [
    {
     "data": {
      "text/plain": [
       "{'id': '49ba73fb-35fb-4eb0-93fc-b6f37d20d6f4',\n",
       " 'model_name': 'my_model',\n",
       " 'outputs': [0, 1]}"
      ]
     },
     "execution_count": 12,
     "metadata": {},
     "output_type": "execute_result"
    }
   ],
   "source": [
    "my_data = '''{\"inputs\":[[5.1, 3.5, 1.4, 0.2],[7.7, 3.8, 6.7, 2.2]]}'''\n",
    "serving_fn.invoke('/v2/models/my_model/infer', my_data)"
   ]
  },
  {
   "cell_type": "code",
   "execution_count": null,
   "metadata": {},
   "outputs": [],
   "source": []
  }
 ],
 "metadata": {
  "kernelspec": {
   "display_name": "Python [conda env:root] *",
   "language": "python",
   "name": "conda-root-py"
  },
  "language_info": {
   "codemirror_mode": {
    "name": "ipython",
    "version": 3
   },
   "file_extension": ".py",
   "mimetype": "text/x-python",
   "name": "python",
   "nbconvert_exporter": "python",
   "pygments_lexer": "ipython3",
   "version": "3.7.6"
  }
 },
 "nbformat": 4,
 "nbformat_minor": 4
}
