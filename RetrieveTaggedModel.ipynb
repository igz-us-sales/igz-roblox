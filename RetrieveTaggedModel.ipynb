{
 "cells": [
  {
   "cell_type": "markdown",
   "metadata": {},
   "source": [
    "### Get Best Model from MLRun DB"
   ]
  },
  {
   "cell_type": "code",
   "execution_count": 1,
   "metadata": {},
   "outputs": [
    {
     "name": "stdout",
     "output_type": "stream",
     "text": [
      "> 2021-03-03 00:20:08,682 [warning] Failed resolving version info. Ignoring and using defaults\n",
      "> 2021-03-03 00:20:10,444 [warning] Unable to parse server or client version. Assuming compatible: {'server_version': '0.6.1-rc3', 'client_version': 'unstable'}\n"
     ]
    }
   ],
   "source": [
    "from mlrun import get_run_db\n",
    "from mlrun.artifacts import get_model\n",
    "\n",
    "def get_best_model(name, project, tag, metric=\"accuracy\"):\n",
    "    # MLRun DB connection\n",
    "    db = get_run_db()\n",
    "    \n",
    "    # Tagged artifacts from project\n",
    "    artifacts = db.list_artifacts(name=name, project=project, tag=tag)\n",
    "    \n",
    "    # Sort artifacts by specified metric\n",
    "    artifacts.sort(key=lambda a: \"metrics\" in a and a[\"metrics\"][metric], reverse=True)\n",
    "    \n",
    "    # DB Path and model file for best model\n",
    "    best_model = artifacts[0]\n",
    "    best_model_dbpath = f'store://artifacts/{project}/{best_model[\"db_key\"]}:{best_model[\"tree\"]}'\n",
    "    best_model_file, best_model_artifact, _ = get_model(best_model[\"target_path\"], suffix='.pkl')\n",
    "    \n",
    "    return best_model_dbpath, best_model_file, best_model_artifact"
   ]
  },
  {
   "cell_type": "code",
   "execution_count": 2,
   "metadata": {},
   "outputs": [
    {
     "name": "stdout",
     "output_type": "stream",
     "text": [
      "Model DB Path: store://artifacts/level-2-demo/train-eval-model-handler_model:ef35dd02-558f-4bda-bf7c-e4a70f04ba6a\n",
      "Model File: /User/artifacts/level-2-demo/ef35dd02-558f-4bda-bf7c-e4a70f04ba6a/1/model.pkl\n"
     ]
    }
   ],
   "source": [
    "model_dbpath, model_file, model_artifact = get_best_model(name=\"model\",\n",
    "                                                          project=\"level-2-demo\",\n",
    "                                                          tag=\"tagged\",\n",
    "                                                          metric=\"accuracy\")\n",
    "\n",
    "print(f\"Model DB Path: {model_dbpath}\")\n",
    "print(f\"Model File: {model_file}\")"
   ]
  },
  {
   "cell_type": "code",
   "execution_count": 3,
   "metadata": {},
   "outputs": [
    {
     "name": "stdout",
     "output_type": "stream",
     "text": [
      "Model Artifact:\n",
      "key: model\n",
      "kind: model\n",
      "iter: 1\n",
      "tree: ef35dd02-558f-4bda-bf7c-e4a70f04ba6a\n",
      "target_path: /User/artifacts/level-2-demo/ef35dd02-558f-4bda-bf7c-e4a70f04ba6a/1/\n",
      "hash: c49cece3204d51e38821dcbee77aeff1e2b1a54d\n",
      "size: 1096652\n",
      "db_key: train-eval-model-handler_model\n",
      "model_file: model.pkl\n",
      "metrics:\n",
      "  accuracy: 0.9845360824742269\n",
      "framework: ''\n",
      "labels:\n",
      "  class: sklearn.ensemble.RandomForestClassifier\n",
      "producer:\n",
      "  name: train-eval-model-handler\n",
      "  kind: run\n",
      "  uri: level-2-demo/9fb445d5658a4b6bb137ec2d2ed5e62d-1\n",
      "  owner: nick\n",
      "  workflow: ef35dd02-558f-4bda-bf7c-e4a70f04ba6a\n",
      "sources: []\n",
      "project: level-2-demo\n",
      "\n"
     ]
    }
   ],
   "source": [
    "print(f\"Model Artifact:\")\n",
    "print(model_artifact.to_yaml())"
   ]
  },
  {
   "cell_type": "markdown",
   "metadata": {},
   "source": [
    "### Run info from Model Artifact"
   ]
  },
  {
   "cell_type": "code",
   "execution_count": 4,
   "metadata": {},
   "outputs": [
    {
     "data": {
      "text/plain": [
       "{'accuracy': 0.9845360824742269}"
      ]
     },
     "execution_count": 4,
     "metadata": {},
     "output_type": "execute_result"
    }
   ],
   "source": [
    "model_artifact.metrics # or latest_model[\"metrics\"]"
   ]
  },
  {
   "cell_type": "code",
   "execution_count": 5,
   "metadata": {},
   "outputs": [
    {
     "data": {
      "text/plain": [
       "{'class': 'sklearn.ensemble.RandomForestClassifier'}"
      ]
     },
     "execution_count": 5,
     "metadata": {},
     "output_type": "execute_result"
    }
   ],
   "source": [
    "model_artifact.labels # or latest_model[\"labels\"]"
   ]
  },
  {
   "cell_type": "code",
   "execution_count": 6,
   "metadata": {},
   "outputs": [
    {
     "data": {
      "text/plain": [
       "{'name': 'train-eval-model-handler',\n",
       " 'kind': 'run',\n",
       " 'uri': 'level-2-demo/9fb445d5658a4b6bb137ec2d2ed5e62d-1',\n",
       " 'owner': 'nick',\n",
       " 'workflow': 'ef35dd02-558f-4bda-bf7c-e4a70f04ba6a'}"
      ]
     },
     "execution_count": 6,
     "metadata": {},
     "output_type": "execute_result"
    }
   ],
   "source": [
    "model_artifact.producer # or latest_model[\"producer\"]"
   ]
  }
 ],
 "metadata": {
  "kernelspec": {
   "display_name": "Python [conda env:root] *",
   "language": "python",
   "name": "conda-root-py"
  },
  "language_info": {
   "codemirror_mode": {
    "name": "ipython",
    "version": 3
   },
   "file_extension": ".py",
   "mimetype": "text/x-python",
   "name": "python",
   "nbconvert_exporter": "python",
   "pygments_lexer": "ipython3",
   "version": "3.7.6"
  }
 },
 "nbformat": 4,
 "nbformat_minor": 4
}
